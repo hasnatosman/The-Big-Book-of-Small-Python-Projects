{
  "cells": [
    {
      "cell_type": "markdown",
      "metadata": {
        "id": "view-in-github",
        "colab_type": "text"
      },
      "source": [
        "<a href=\"https://colab.research.google.com/github/hasnatosman/The-Big-Book-of-Small-Python-Projects/blob/master/bagles_python_code.ipynb\" target=\"_parent\"><img src=\"https://colab.research.google.com/assets/colab-badge.svg\" alt=\"Open In Colab\"/></a>"
      ]
    },
    {
      "cell_type": "code",
      "source": [
        "import random\n",
        "\n",
        "def getSecretNum(numDigits):\n",
        "    \"\"\"Returns a string that is numDigits long, made up of unique random digits.\"\"\"\n",
        "    numbers = list('0123456789')  # Create a list of digits 0 to 9\n",
        "    random.shuffle(numbers)  # Shuffle them into random order\n",
        "    secretNum = ''\n",
        "    for i in range(numDigits):\n",
        "        secretNum += str(numbers[i])\n",
        "    return secretNum\n",
        "\n",
        "def getClues(guess, secretNum):\n",
        "    \"\"\"Returns a string with the pico, fermi, bagels clues.\"\"\"\n",
        "    if guess == secretNum:\n",
        "        return 'You got it!'\n",
        "    clues = []\n",
        "    for i in range(len(guess)):\n",
        "        if guess[i] == secretNum[i]:\n",
        "            clues.append('Fermi')\n",
        "        elif guess[i] in secretNum:\n",
        "            clues.append('Pico')\n",
        "    if len(clues) == 0:\n",
        "        return 'Bagels'\n",
        "    else:\n",
        "        clues.sort()\n",
        "        return ' '.join(clues)\n",
        "\n",
        "def playAgain():\n",
        "    \"\"\"Asks the player if they want to play again.\"\"\"\n",
        "    print('Do you want to play again? (yes or no)')\n",
        "    return input().lower().startswith('y')\n",
        "\n",
        "NUM_DIGITS = 3\n",
        "MAX_GUESSES = 5\n",
        "\n",
        "print('I am thinking of a', NUM_DIGITS, '-digit number.')\n",
        "print('Try to guess what it is.')\n",
        "print('Here are some clues:')\n",
        "print('When I say:    That means:')\n",
        "print('  Pico       One digit is correct but in the wrong position.')\n",
        "print('  Fermi      One digit is correct and in the right position.')\n",
        "print('  Bagels     No digit is correct.')\n",
        "\n",
        "while True:\n",
        "    secretNum = getSecretNum(NUM_DIGITS)\n",
        "    print('I have thought up a number.')\n",
        "    numGuesses = 1\n",
        "    while numGuesses <= MAX_GUESSES:\n",
        "        guess = ''\n",
        "        while len(guess) != NUM_DIGITS or not guess.isdecimal():\n",
        "            print('Guess #{}: '.format(numGuesses))\n",
        "            guess = input()\n",
        "\n",
        "        print(getClues(guess, secretNum))\n",
        "        numGuesses += 1\n",
        "\n",
        "        if guess == secretNum:\n",
        "            break\n",
        "        if numGuesses > MAX_GUESSES:\n",
        "            print('You ran out of guesses.')\n",
        "            print('The answer was', secretNum)\n",
        "\n",
        "    if not playAgain():\n",
        "        break"
      ],
      "outputs": [
        {
          "name": "stdout",
          "output_type": "stream",
          "text": [
            "I am thinking of a 3 -digit number.\n",
            "Try to guess what it is.\n",
            "Here are some clues:\n",
            "When I say:    That means:\n",
            "  Pico       One digit is correct but in the wrong position.\n",
            "  Fermi      One digit is correct and in the right position.\n",
            "  Bagels     No digit is correct.\n",
            "I have thought up a number.\n",
            "Guess #1: \n",
            "567\n",
            "Bagels\n",
            "Guess #2: \n",
            "765\n",
            "Bagels\n",
            "Guess #3: \n",
            "345\n",
            "Pico Pico\n",
            "Guess #4: \n",
            "987\n",
            "Bagels\n",
            "Guess #5: \n",
            "235\n",
            "Pico\n",
            "You ran out of guesses.\n",
            "The answer was 413\n",
            "Do you want to play again? (yes or no)\n",
            "no\n"
          ]
        }
      ],
      "execution_count": 2,
      "metadata": {
        "colab": {
          "base_uri": "https://localhost:8080/"
        },
        "id": "R_NRAf1_gCOk",
        "outputId": "7cda7e99-38f1-4e9a-9024-42671ba9b4a4"
      }
    },
    {
      "cell_type": "markdown",
      "source": [
        "This code implements the Bagels game with the following features:\n",
        "\n",
        "- **Generates a random secret number:** `getSecretNum` creates a random number with the specified number of digits.\n",
        "- **Provides clues:** `getClues` checks the player's guess and provides clues (Pico, Fermi, Bagels) based on the correctness of the digits.\n",
        "- **Handles invalid input:** Ensures that the player enters a valid guess with the correct number of digits.\n",
        "- **Limits the number of guesses:** Sets a maximum number of guesses allowed.\n",
        "- **Asks to play again:** Allows the player to play multiple rounds.\n",
        "\n",
        "This implementation is a basic version of the Bagels game. You can further enhance it by:\n",
        "\n",
        "- Adding more challenging features like \"PicoFermi\" (one digit is correct but in the wrong position, and another digit is correct but in the wrong position).\n",
        "- Implementing a hint system.\n",
        "- Allowing the player to choose the number of digits in the secret number.\n",
        "- Adding a timer to limit the playing time."
      ],
      "metadata": {
        "id": "Hlwy6V5ogCOp"
      }
    },
    {
      "cell_type": "markdown",
      "source": [
        "<div class=\"md-recitation\">\n",
        "  Sources\n",
        "  <ol>\n",
        "  <li><a href=\"https://answers.yahoo.com/question/?qid=20100415084349AAhaKIg\">https://answers.yahoo.com/question/?qid=20100415084349AAhaKIg</a></li>\n",
        "  <li><a href=\"https://ihsoyct.github.io/index.html?subreddit=learningpython\">https://ihsoyct.github.io/index.html?subreddit=learningpython</a></li>\n",
        "  <li><a href=\"https://dev.to/letmypeoplecode/learning-python-by-example-2-bagels-1h5a\">https://dev.to/letmypeoplecode/learning-python-by-example-2-bagels-1h5a</a></li>\n",
        "  <li><a href=\"https://mrash.co/bagels-beginner-python-project/\">https://mrash.co/bagels-beginner-python-project/</a></li>\n",
        "  <li><a href=\"https://grantjenks.com/docs/freegames/bagels.html\">https://grantjenks.com/docs/freegames/bagels.html</a></li>\n",
        "  <li><a href=\"https://github.com/kishkoltz/Python-3-projects\">https://github.com/kishkoltz/Python-3-projects</a></li>\n",
        "  <li><a href=\"https://github.com/PK39/PycharmProjects\">https://github.com/PK39/PycharmProjects</a></li>\n",
        "  </ol>\n",
        "</div>"
      ],
      "metadata": {
        "id": "bWT93DPfgCOr"
      }
    }
  ],
  "metadata": {
    "colab": {
      "provenance": [],
      "include_colab_link": true
    },
    "kernelspec": {
      "display_name": "Python 3",
      "name": "python3"
    }
  },
  "nbformat": 4,
  "nbformat_minor": 0
}